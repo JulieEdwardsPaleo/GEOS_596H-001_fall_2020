{
 "cells": [
  {
   "cell_type": "markdown",
   "metadata": {},
   "source": [
    "### Functions\n",
    "\n",
    "A function is a block of code which only runs when it is called. You can pass data, known as \"arguments\", into a function, and a function can also return data as a result.\n",
    "\n",
    "In Python, a function is defined using the \"def\" keyword:<br>\n",
    "\n",
    "<code>def greetings():\n",
    "    print(\"Hello World!\")</code>\n",
    "\n",
    "Call function with:<br>\n",
    "\n",
    "<code>greetings()</code>"
   ]
  },
  {
   "cell_type": "code",
   "execution_count": null,
   "metadata": {},
   "outputs": [],
   "source": []
  },
  {
   "cell_type": "markdown",
   "metadata": {},
   "source": [
    "You can pass an argument to a function with:<br>\n",
    "\n",
    "<code>def print_function(message):\n",
    "    print(message)</code>\n",
    "\n",
    "Call function with:<br>\n",
    "\n",
    "<code>\n",
    "message = \"Print this message to screen, please!\"\n",
    "print_function(message)</code>  "
   ]
  },
  {
   "cell_type": "code",
   "execution_count": null,
   "metadata": {},
   "outputs": [],
   "source": []
  },
  {
   "cell_type": "markdown",
   "metadata": {},
   "source": [
    "Note that a function can have more than one argument, e.g.: <br>\n",
    "\n",
    "<code>def sum_arguments(a, b, c):\n",
    "    sum1 = a + b\n",
    "    sum2 = a + c\n",
    "    sum3 = b + c\n",
    "    return(sum1, sum2, sum3)</code>\n",
    "\n",
    "Note that the three sums are returned from this function. You do not have to use the same naming convention in the I/O to a function call. For example, define arguments as:<br>\n",
    "\n",
    "<code>\n",
    "a = 1\n",
    "arg2 = 2\n",
    "c = 3</code>\n",
    "\n",
    "Call function:<br>\n",
    "\n",
    "<code>sum1, b, z = sum_arguments(a, arg2, c)</code>\n",
    "\n",
    "Print the variables returned from function call:<br>\n",
    "\n",
    "<code>\n",
    "print(\"a + b = \" + str(sum1))\n",
    "print(\"a + c = \" + str(b))\n",
    "print(\"b + c = \" + str(z))</code>"
   ]
  },
  {
   "cell_type": "code",
   "execution_count": null,
   "metadata": {},
   "outputs": [],
   "source": []
  },
  {
   "cell_type": "markdown",
   "metadata": {},
   "source": [
    "If you do not know how many arguments that will be passed into your function, add a * before the \"argument\" name in the function definition.\n",
    "\n",
    "This way the function will receive a tuple of arguments, and can access the items accordingly (order matters):<br>\n",
    "\n",
    "<code>def sum_arguments(*args):\n",
    "    result = 0\n",
    "    for x in args:  ## Iterating over the Python args tuple\n",
    "        result += x\n",
    "    return result</code>\n",
    "\n",
    "<code>print(sum_arguments(1, 2, 3))</code>"
   ]
  },
  {
   "cell_type": "code",
   "execution_count": null,
   "metadata": {},
   "outputs": [],
   "source": []
  },
  {
   "cell_type": "markdown",
   "metadata": {},
   "source": [
    "You can also send arguments with the \"key = value\" syntax.\n",
    "\n",
    "This way the order of the arguments does not matter.<br>\n",
    "\n",
    "<code>def keyword_arguments(a=0, b=None):\n",
    "    print(\"Value of a is: \"+ str(a))\n",
    "    print(\"Value of b is: \"+ str(b))\n",
    "</code>\n",
    "\n",
    "<code>keyword_arguments(a=10, b=0)</code>\n",
    "\n",
    "Note that a and b are defined as a=0 and b=None in the function above. What happens if we did not define b in the function call?<br>\n",
    "\n",
    "<code>keyword_arguments(a=10)</code>"
   ]
  },
  {
   "cell_type": "code",
   "execution_count": null,
   "metadata": {},
   "outputs": [],
   "source": []
  },
  {
   "cell_type": "markdown",
   "metadata": {},
   "source": [
    "Similar to *args, if you do not know how many keyword arguments that will be passed into your function, add ** before the \"keyword argument\" name in the function definition. The standard syntax is  <code>**kwarg</code><br>\n",
    "\n",
    "<code>def concatenate_kwargs(**kwarg):\n",
    "    result = \"\"\n",
    "    for kwarg in kwarg.values(): ## Iterating over the Python kwargs dictionary\n",
    "        result += kwarg\n",
    "    return result</code>\n",
    "\n",
    "\n",
    "What do you think the result will be from the following function call? <br>\n",
    "\n",
    "<code>print(concatenate_kwargs(a=\"Python \", b=\"Programming \", c=\"Is \", d=\"Great\", e=\"!\"))</code>"
   ]
  },
  {
   "cell_type": "code",
   "execution_count": null,
   "metadata": {},
   "outputs": [],
   "source": []
  },
  {
   "cell_type": "markdown",
   "metadata": {},
   "source": [
    "___\n",
    "### Classes\n",
    "\n",
    "Classes are used to create user-defined data structures. Classes define functions called methods, which identify the behaviors and actions that an object created from the class can perform with its data. A class is a blueprint for how something should be defined, but it doesn’t actually contain any data. While the class is the blueprint, an instance is an object that is built from a class and contains real data. \n",
    "\n",
    "The syntax for creating a class with no attributed or methods is: <br>\n",
    "\n",
    "<code>class name_of_class:\n",
    "    pass\n",
    "</code>\n",
    "\n",
    "To initialize a class, simply type: <br>\n",
    "\n",
    "<code>name_of_class()</code>\n",
    "\n",
    "One can also define a shorthand for the class as (e.g.):<br>\n",
    "\n",
    "<code>c = name_of_class()</code>\n",
    "\n",
    "Create this class below and print to screen <code>print(name_of_class())</code>"
   ]
  },
  {
   "cell_type": "code",
   "execution_count": null,
   "metadata": {},
   "outputs": [],
   "source": []
  },
  {
   "cell_type": "markdown",
   "metadata": {},
   "source": [
    "---\n",
    "\n",
    "Let's create a class with some functionality. We instantiate the class with the following syntax:<br>\n",
    "\n",
    "<code>class academic:\n",
    "    def \\__init__(self, name, rank, skill=None, trait=None):\n",
    "        self.name = name\n",
    "        self.rank = rank\n",
    "        self.trait = trait\n",
    "        self.skill = skill\n",
    "</code>\n",
    "\n",
    "What is going on here?"
   ]
  },
  {
   "cell_type": "code",
   "execution_count": null,
   "metadata": {},
   "outputs": [],
   "source": []
  },
  {
   "cell_type": "markdown",
   "metadata": {},
   "source": [
    "Define thw following objects: <br>\n",
    "<code>professor = academic('Jane Doe', 'professor', skill='meager', trait='lazy')</code>\n",
    "\n",
    "Note that the order of keyword arguments is arbitrary <br>\n",
    "<code>student = academic('John Doe', 'student', trait='ambitious', skill='many')</code>\n",
    "\n",
    "\n",
    "The instances (i.e., prefixed by \"self\") can be accessed outside the class\n",
    "\n",
    "Access the instances in the \"professor\" object\n",
    "<code>\n",
    "print(professor.name)\n",
    "print(professor.rank)\n",
    "print(professor.skill)\n",
    "print(professor.trait)\n",
    "</code>\n",
    "\n",
    "Access instances in the \"student\" object\n",
    "<code>\n",
    "print(student.name)\n",
    "print(student.rank)\n",
    "print(student.skill)\n",
    "print(student.trait)\n",
    "</code>"
   ]
  },
  {
   "cell_type": "code",
   "execution_count": null,
   "metadata": {},
   "outputs": [],
   "source": []
  },
  {
   "cell_type": "markdown",
   "metadata": {},
   "source": [
    "A class can have its own functions. They work the same as for \"normal\" functions and can accept arguments and keyword arguments. \n",
    "\n",
    "<code>class academic:\n",
    "    def \\__init__(self, name, rank, skill=None, trait=None):\n",
    "        self.name = name\n",
    "        self.rank = rank\n",
    "        self.trait = trait\n",
    "        self.skill = skill\n",
    "</code>\n",
    "<code>\n",
    "    def characteristics(self):\n",
    "        print(\"{} is a/an {} {} with {} skills\".format(self.name, self.trait, self.rank, self.skill))\n",
    "    \n",
    "</code>\n",
    "\n",
    "We can access methods (functions) through the class: <br>\n",
    "\n",
    "<code>\n",
    "professor = academic('Jane Doe', 'professor', skill='meager', trait='lazy')\n",
    "professor.characteristics()\n",
    "</code>\n",
    "<code>\n",
    "student = academic('John Doe', 'student', trait='ambitious', skill='many')\n",
    "student.characteristics()\n",
    "</code>\n"
   ]
  },
  {
   "cell_type": "code",
   "execution_count": null,
   "metadata": {},
   "outputs": [],
   "source": []
  },
  {
   "cell_type": "markdown",
   "metadata": {},
   "source": [
    "### Read input data\n",
    "\n",
    "First, load netCDF4 library with: <br>\n",
    "\n",
    "<code>from netCDF4 import Dataset</code>"
   ]
  },
  {
   "cell_type": "code",
   "execution_count": null,
   "metadata": {},
   "outputs": [],
   "source": []
  },
  {
   "cell_type": "markdown",
   "metadata": {},
   "source": [
    "Lets try a more tangible example of how classes can be used in modeling and model analysis.\n",
    "\n",
    "<code>class read_netCDF4:\n",
    "    \"\"\"\n",
    "    Input using netCDF4 library\n",
    "    \"\"\"\n",
    "    def \\__init__(self, dfile):\n",
    "        self.dfile = Dataset(dfile, 'r')\n",
    "</code>\n",
    "\n",
    "Define data file: <br>\n",
    "\n",
    "<code>dfile = \"../data/ERAInt.surf_geopot.0.75x0.75.nc\"</code>\n",
    "\n",
    "and initialize class with: <br>\n",
    "\n",
    "<code>ds = read_netCDF4(dfile)</code>"
   ]
  },
  {
   "cell_type": "code",
   "execution_count": null,
   "metadata": {},
   "outputs": [],
   "source": []
  },
  {
   "cell_type": "markdown",
   "metadata": {},
   "source": [
    "Lets add some functionality:\n",
    "\n",
    "<code>class read_netCDF4:\n",
    "    \"\"\"\n",
    "    Input using netCDF4 library\n",
    "    \"\"\"\n",
    "    def \\__init__(self, dfile):\n",
    "        self.dfile = Dataset(datafile, 'r')</code><br> \n",
    "\n",
    "<code>\n",
    "    def list_variables(self):\n",
    "        print(self.dfile.variables.keys())\n",
    "</code>\n",
    "\n",
    "Call with: <br>\n",
    "<code>ds = read_netCDF4(dfile)</code>\n",
    "\n",
    "<code>ds.list_variables()</code>\n"
   ]
  },
  {
   "cell_type": "code",
   "execution_count": null,
   "metadata": {},
   "outputs": [],
   "source": []
  },
  {
   "cell_type": "markdown",
   "metadata": {},
   "source": [
    "<code>class read_netCDF4:\n",
    "    \"\"\"\n",
    "    Input using netCDF4 library\n",
    "    \"\"\"\n",
    "    def \\__init__(self, dfile):\n",
    "        self.dfile = Dataset(dfile, 'r')</code><br> \n",
    "\n",
    "<code>\n",
    "    def list_variables(self):\n",
    "        print(self.dfile.variables.keys())\n",
    "</code>\n",
    "\n",
    "\n",
    "<code>\n",
    "    def read_data(self,Field):\n",
    "        return self.dfile.variables[Field][:]  \n",
    "</code>\n",
    "\n",
    "\n",
    "Call with: <br>\n",
    "<code>ds = read_netCDF4(dfile)</code>\n",
    "\n",
    "<code>lat = ds.read_data('latitude')</code>\n",
    "\n",
    "<code>print(lat)</code>\n"
   ]
  },
  {
   "cell_type": "code",
   "execution_count": null,
   "metadata": {},
   "outputs": [],
   "source": []
  },
  {
   "cell_type": "markdown",
   "metadata": {},
   "source": [
    "We can define the latitude and longitude arrays to be instances in the class object:\n",
    "\n",
    "<code>class read_netCDF4:\n",
    "    \"\"\"\n",
    "    Input using netCDF4 library\n",
    "    \"\"\"\n",
    "    def \\__init__(self, dfile):\n",
    "        self.dfile = Dataset(dfile, 'r') \n",
    "        self.lat = self.read_data('latitude')\n",
    "        self.lon = self.read_data('longitude')</code><br>\n",
    "<code>\n",
    "    def list_variables(self):\n",
    "        print(self.dfile.variables.keys())\n",
    "</code>\n",
    "\n",
    "\n",
    "<code>\n",
    "    def read_data(self,Field):\n",
    "        return self.dfile.variables[Field][:]  \n",
    "</code>\n",
    "\n",
    "Access lat/lon instances with:\n",
    "\n",
    "<code>\n",
    "ds = read_netCDF4(dfile) \n",
    "print('Longitudes:')\n",
    "print(ds.lon)\n",
    "print()\n",
    "print('Latitudes:')\n",
    "print(ds.lat)</code>"
   ]
  },
  {
   "cell_type": "code",
   "execution_count": null,
   "metadata": {},
   "outputs": [],
   "source": []
  }
 ],
 "metadata": {
  "kernelspec": {
   "display_name": "Python 3",
   "language": "python",
   "name": "python3"
  },
  "language_info": {
   "codemirror_mode": {
    "name": "ipython",
    "version": 3
   },
   "file_extension": ".py",
   "mimetype": "text/x-python",
   "name": "python",
   "nbconvert_exporter": "python",
   "pygments_lexer": "ipython3",
   "version": "3.6.6"
  }
 },
 "nbformat": 4,
 "nbformat_minor": 2
}
