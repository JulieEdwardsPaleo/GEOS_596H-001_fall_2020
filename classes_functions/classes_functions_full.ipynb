{
 "cells": [
  {
   "cell_type": "markdown",
   "metadata": {},
   "source": [
    "### Classes\n",
    "\n",
    "Classes are used to create user-defined data structures. Classes define functions called methods, which identify the behaviors and actions that an object created from the class can perform with its data. A class is a blueprint for how something should be defined, but it doesn’t actually contain any data. While the class is the blueprint, an instance is an object that is built from a class and contains real data. \n",
    "\n",
    "The syntax for creating a class with no attributed or methods is: <br>\n",
    "\n",
    "<code>class name_of_class:\n",
    "    pass\n",
    "</code>\n",
    "\n",
    "Create a class below and print to screen <code>print(name_of_class)</code>"
   ]
  },
  {
   "cell_type": "code",
   "execution_count": 7,
   "metadata": {},
   "outputs": [
    {
     "name": "stdout",
     "output_type": "stream",
     "text": [
      "<class '__main__.name_of_class'>\n"
     ]
    }
   ],
   "source": []
  },
  {
   "cell_type": "markdown",
   "metadata": {},
   "source": [
    "---\n",
    "\n",
    "Let's create a class with some functionality. <br>\n",
    "\n",
    "<code>class name_of_class:\n",
    "    def \\__init__(self):\n",
    "        pass\n",
    "</code>\n",
    "\n",
    "The keyword <code>pass</code> ensures that the class is instantiated properly, but it is currently not doing anything. "
   ]
  },
  {
   "cell_type": "code",
   "execution_count": 2,
   "metadata": {},
   "outputs": [],
   "source": [
    "class academic:\n",
    "    def __init__(self, name, rank, skill=None, trait=None):\n",
    "    \n",
    "        ## Positional arguments or \"arg\" (order matters)\n",
    "        self.name = name\n",
    "        self.rank = rank\n",
    "        \n",
    "        ## Keyword arguments or \"kwarg\" (order is not important but must come after all \"positional arguments\")\n",
    "        ## Note that \n",
    "        self.trait = trait\n",
    "        self.skill = skill"
   ]
  },
  {
   "cell_type": "code",
   "execution_count": 10,
   "metadata": {},
   "outputs": [
    {
     "name": "stdout",
     "output_type": "stream",
     "text": [
      "Jane Doe\n",
      "professor\n",
      "a few\n",
      "lazy\n",
      "\n",
      "John Doe\n",
      "student\n",
      "many\n",
      "ambitious\n"
     ]
    }
   ],
   "source": [
    "professor = academic('Jane Doe', 'professor', skill='a few', trait='lazy')\n",
    "\n",
    "## Order of keyword arguments is arbitrary\n",
    "student = academic('John Doe', 'student', trait='ambitious', skill='many')\n",
    "\n",
    "print(professor.name)\n",
    "print(professor.rank)\n",
    "print(professor.skill)\n",
    "print(professor.trait)\n",
    "print()\n",
    "\n",
    "print(student.name)\n",
    "print(student.rank)\n",
    "print(student.skill)\n",
    "print(student.trait)"
   ]
  },
  {
   "cell_type": "code",
   "execution_count": null,
   "metadata": {},
   "outputs": [],
   "source": []
  },
  {
   "cell_type": "code",
   "execution_count": null,
   "metadata": {},
   "outputs": [],
   "source": []
  },
  {
   "cell_type": "code",
   "execution_count": null,
   "metadata": {},
   "outputs": [],
   "source": []
  }
 ],
 "metadata": {
  "kernelspec": {
   "display_name": "Python 3",
   "language": "python",
   "name": "python3"
  },
  "language_info": {
   "codemirror_mode": {
    "name": "ipython",
    "version": 3
   },
   "file_extension": ".py",
   "mimetype": "text/x-python",
   "name": "python",
   "nbconvert_exporter": "python",
   "pygments_lexer": "ipython3",
   "version": "3.6.6"
  }
 },
 "nbformat": 4,
 "nbformat_minor": 2
}
