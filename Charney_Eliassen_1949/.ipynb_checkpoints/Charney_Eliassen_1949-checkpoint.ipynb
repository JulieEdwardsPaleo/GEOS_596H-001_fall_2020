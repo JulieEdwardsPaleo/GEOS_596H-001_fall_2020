{
 "cells": [
  {
   "cell_type": "markdown",
   "metadata": {},
   "source": [
    "## Charney-Eliassen model \n",
    "\n",
    "J. G. Charney & A. Eliassen (1949) A Numerical Method for Predicting the Perturbations of the Middle Latitude Westerlies, Tellus, 1:2, 38-54, DOI: 10.3402/tellusa.v1i2.8500\n",
    "https://www.tandfonline.com/doi/abs/10.3402/tellusa.v1i2.8500\n",
    "\n",
    "Barotropic vorticity equation: <br>\n",
    "$\n",
    "\\frac{D}{D t}\\left(\\frac{\\zeta + f}{H}\\right) = 0\n",
    "$\n",
    "\n",
    "Material derivative: <br>\n",
    "$D/Dt = (\\partial/\\partial t + (u,v) \\cdot \\nabla)$\n",
    "\n",
    "Assuming a low amplitude topographic forcing ($h_T \\ll H$) and linearising around a time-independent quasi-geostrophic zonal mean flow ($u = [u] + u^\\ast$, $v = v^\\ast$ where $v^\\ast \\sim u^\\ast \\ll [u]$, here [·] and (∗) denotes zonal mean and zonal perturbation quantities, respectively) at a midlatitude $\\beta$ plane ($f = f_0 + \\beta y$), we can define the perturbation velocity field from a geostrophic streamfunction as ($u^\\ast, v^\\ast) = \\hat{k} \\times \\nabla \\psi^\\ast$ and thus $\\zeta^\\ast = \\nabla^2 \\psi^\\ast$. The resulting equation has wave solutions of the form $(\\psi^\\ast,h_T) = Re(\\psi_0, h_0) \\, exp\\,[\\,i(kx +ly)\\,]$ and the complex amplitude of the height anomaly is <br>\n",
    "$\n",
    "\\psi_0 = \\frac{f_0}{H} \\frac{h_0}{K^2 - K_s^2 - iR},\n",
    "$\n",
    "\n",
    "where $K = \\sqrt{k^2 + l^2}$ is the total wavenumber, and the stationary wave number is defined as $K_s \\equiv \\sqrt{\\beta/[u]}$. A linear damping term ($R = r\\,K^2/k[u]$) is added to ensure bounded solutions as the height anomaly ($\\psi_0$) resonates for a total wave number equal to the stationary wave number.\n"
   ]
  },
  {
   "cell_type": "code",
   "execution_count": null,
   "metadata": {},
   "outputs": [],
   "source": [
    "import matplotlib.pyplot as plt\n",
    "%matplotlib inline\n",
    "\n",
    "import numpy as np\n",
    "from scipy import fft, ifft\n",
    "\n",
    "from netCDF4 import Dataset"
   ]
  },
  {
   "cell_type": "markdown",
   "metadata": {},
   "source": [
    "___\n",
    "### Define latitude"
   ]
  },
  {
   "cell_type": "code",
   "execution_count": null,
   "metadata": {},
   "outputs": [],
   "source": [
    "## Latitude in degrees\n",
    "latd = \n",
    "\n",
    "## Latitude in radians\n",
    "latr = "
   ]
  },
  {
   "cell_type": "markdown",
   "metadata": {},
   "source": [
    "___\n",
    "### Domain and planetary constants\n",
    "\n",
    "Number of grid cells: <br>\n",
    "n = 480\n",
    "\n",
    "Gravitational acceleration ($m/s^2$): <br>\n",
    "$g = 9.8$\n",
    "\n",
    "Depth of atmosphere (m): <br>\n",
    "$H = 8\\cdot10^3$\n",
    "\n",
    "Angular speed of rotation of the Earth (23 hours 56 minutes 4 seconds, or 86,164 s in a day): <br>\n",
    "$\\Omega = \\frac{2 \\pi}{86,164}$\n",
    "\n",
    "Coriolis parameter ($s^{-1}$): <br>\n",
    "$f = 2 \\, \\Omega \\, sin(\\phi)$\n",
    "\n",
    "Meridional gradient of the Coriolis parameter ($m^{-1}\\,s^{-1}$): <br>\n",
    "$\\beta = \\frac{\\partial f}{\\partial y} = \\frac{2 \\, \\Omega}{a} \\, cos(\\phi)$ <br>\n",
    "\n",
    "Earth's radius (m): <br> \n",
    "$a \\approx 6.371\\cdot10^6$\n",
    "\n",
    "Earth's circumference at latitude $\\phi$ (m): <br>\n",
    "$x = 2 \\, \\pi \\, a \\, cos(\\phi)$ \n"
   ]
  },
  {
   "cell_type": "code",
   "execution_count": null,
   "metadata": {},
   "outputs": [],
   "source": [
    "## Number of grid boxes (integer)\n",
    "n = \n",
    "\n",
    "## Gravitational acceleration (m/s^2)\n",
    "g = \n",
    "\n",
    "## Depth of atmosphere (m)\n",
    "H = \n",
    "\n",
    "## Earth's radius (m)\n",
    "a = \n",
    "\n",
    "## Angular velocity (1/s)\n",
    "omega = \n",
    "\n",
    "## Coriolis parameter (OBS, lat in radians)\n",
    "f0 = \n",
    "\n",
    "## Meridional gradient of Coriolis parameter (OBS, lat in radians)\n",
    "beta = \n",
    "\n",
    "## Earth's circumference at selected latitude (OBS, lat in radians)\n",
    "Lx = \n",
    "\n",
    "## Grid spacing \n",
    "dx = Lx/n\n",
    "\n",
    "## Define grid\n",
    "x = np.arange(-Lx/2., Lx/2., dx)\n",
    "x_degrees = x*360./Lx\n",
    "\n",
    "## Utility array\n",
    "ns = np.arange(n)"
   ]
  },
  {
   "cell_type": "markdown",
   "metadata": {},
   "source": [
    "___\n",
    "### Model parameters\n",
    "\n",
    "Zonal wind (m/s): <br>\n",
    "$u = 25$\n",
    "\n",
    "Meridional wavenumber: <br>\n",
    "$m = 2\\pi \\,/\\, (8\\cdot10^6)$\n",
    "\n",
    "Zonal wave number: <br>\n",
    "$k = 2\\pi\\,/\\,Lx$\n",
    "\n",
    "Total wavenumber: <br>\n",
    "$K^2 = k^2 + m^2$\n",
    "\n",
    "Stationary wavenumber: <br>\n",
    "$K^2_s = \\beta\\,/\\,u$\n",
    "\n",
    "Damping timescale of 5 days (in seconds): <br>\n",
    "$\\tau = 5*86164$"
   ]
  },
  {
   "cell_type": "code",
   "execution_count": null,
   "metadata": {},
   "outputs": [],
   "source": [
    "## Zonal wind (m/s)\n",
    "u = \n",
    "\n",
    "## Meridional wave number:\n",
    "m = \n",
    "\n",
    "## Zonal wave number\n",
    "k =           \n",
    "\n",
    "## Stationary wavenumber squared\n",
    "Ks2 = \n",
    "\n",
    "## Total wavenumber squared\n",
    "K2 =  \n",
    "\n",
    "## Damping timescale (86164 seconds = 1 day)\n",
    "tau = \n",
    "\n",
    "## Friction parameter\n",
    "r = 1./tau  # Inverse friction time\n",
    "R = ns*0.\n",
    "R[1:n] = r*K2[1:n]/(k*ns[1:]*u)"
   ]
  },
  {
   "cell_type": "markdown",
   "metadata": {},
   "source": [
    "___\n",
    "### Gaussian topography\n",
    "\n",
    "Mountain height $h_0$ (m): <br>\n",
    "$h_0 = 4\\cdot10^3$\n",
    "\n",
    "Mountain width $dx_h$ (m): <br>\n",
    "$dx_h = 1\\cdot10^6$\n",
    "\n",
    "Topography: <br>\n",
    "$h = h_0 \\cdot dx_h \\,\\cdot \\, e^{\\, [\\,-(x\\,/\\,dx_h)^2\n",
    "\\,] \\, / \\, \\sqrt{dx_h \\, \\pi^2}}$"
   ]
  },
  {
   "cell_type": "code",
   "execution_count": null,
   "metadata": {},
   "outputs": [],
   "source": [
    "def gaussian_topography():\n",
    "    ## Mountain height h0 (m):\n",
    "    h0 = \n",
    "\n",
    "    ## Mountain width dx_h (m):\n",
    "    dx_h = \n",
    "\n",
    "    ## Topography\n",
    "    h = \n",
    "    \n",
    "    return h"
   ]
  },
  {
   "cell_type": "markdown",
   "metadata": {},
   "source": [
    "### Real world topography"
   ]
  },
  {
   "cell_type": "code",
   "execution_count": null,
   "metadata": {},
   "outputs": [],
   "source": [
    "def world_topography():\n",
    "    ds = Dataset('../data/ERAInt.surf_geopot.0.75x0.75.nc','r')\n",
    "    iy = np.abs(ds.variables['latitude'][:]-latd).argmin()\n",
    "    h = ds.variables['srfgeo'][0,iy-5:iy+5,:].mean(axis=0)/g\n",
    "    return h"
   ]
  },
  {
   "cell_type": "markdown",
   "metadata": {},
   "source": [
    "### Analytic solution to barotropic vorticity equation"
   ]
  },
  {
   "cell_type": "code",
   "execution_count": null,
   "metadata": {},
   "outputs": [],
   "source": [
    "## Define topography\n",
    "#h = gaussian_topography()\n",
    "#h = world_topography()\n",
    "\n",
    "## Fourier transform (FFT) of topography\n",
    "sh =        # Fourier coef. (topography)\n",
    "sh[0] = 0.  # Remove zonal mean by setting first wave number to 0.\n",
    "\n",
    "## Analytic solution to barotropic vorticity equation\n",
    "spsi = \n",
    "\n",
    "## Inverse FFT (select real part with np.real())\n",
    "psi = "
   ]
  },
  {
   "cell_type": "markdown",
   "metadata": {},
   "source": [
    "### Plot results"
   ]
  },
  {
   "cell_type": "code",
   "execution_count": null,
   "metadata": {},
   "outputs": [],
   "source": [
    "plt.clf()\n",
    "\n",
    "if latd == 0.: hem = ''\n",
    "elif latd > 0.: hem = 'North'\n",
    "else: hem = 'South'\n",
    "\n",
    "ax = plt.subplot(2,1,1)\n",
    "plt.plot(x_degrees, h, 'k', \n",
    "         label = 'Topography \\n{}$^\\circ$ {}'.format(int(latd),hem))\n",
    "plt.ylabel('Topography (m)')\n",
    "plt.ylim([0, 2500])\n",
    "plt.xlim([-180, 180])\n",
    "plt.xticks(np.arange(-180,210,30))\n",
    "ax.legend(bbox_to_anchor=(1.35, 1.05))\n",
    "\n",
    "\n",
    "ax = plt.subplot(2,1,2)\n",
    "plt.plot(x_degrees, psi*f0/g, 'k',\n",
    "         label = 'CE 1949')\n",
    "plt.ylim([-250, 250])\n",
    "plt.xlim([-180, 180])\n",
    "plt.xticks(np.arange(-180,181,30))\n",
    "plt.ylabel('Geopot. height (m)')\n",
    "\n",
    "\n",
    "## ERA-Interim\n",
    "#ds = Dataset('../data/ERAInt.500hPa_geopot.djf.0.75x0.75.nc','r')\n",
    "#iy = np.abs(ds.variables['latitude'][:]-latd).argmin()\n",
    "#z = ds.variables['z'][0,0,iy-5:iy+5,:].mean(axis=0)/g\n",
    "#z -= np.mean(z,axis=0)\n",
    "#plt.plot(x_degrees, z, 'b', label = 'ERA-Interim')\n",
    "\n",
    "ax.legend(bbox_to_anchor=(1.34, 1.05))"
   ]
  }
 ],
 "metadata": {
  "celltoolbar": "Raw Cell Format",
  "kernelspec": {
   "display_name": "Python 3",
   "language": "python",
   "name": "python3"
  },
  "language_info": {
   "codemirror_mode": {
    "name": "ipython",
    "version": 3
   },
   "file_extension": ".py",
   "mimetype": "text/x-python",
   "name": "python",
   "nbconvert_exporter": "python",
   "pygments_lexer": "ipython3",
   "version": "3.6.6"
  }
 },
 "nbformat": 4,
 "nbformat_minor": 2
}
