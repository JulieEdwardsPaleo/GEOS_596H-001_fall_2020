{
 "cells": [
  {
   "cell_type": "code",
   "execution_count": null,
   "metadata": {},
   "outputs": [],
   "source": [
    "import xarray as xr"
   ]
  },
  {
   "cell_type": "code",
   "execution_count": null,
   "metadata": {},
   "outputs": [],
   "source": [
    "class xarray_IO:\n",
    "    \"\"\"\n",
    "    Basic xarray interface for netcdf I/O\n",
    "    \"\"\"\n",
    "    def __init__(self, dfile=None, engine='netcdf4', FV=1.e20):\n",
    "        pass\n",
    "\n",
    "    def copy_variable(self):\n",
    "        pass\n",
    "\n",
    "    def create_dimension(self):\n",
    "        pass\n",
    "\n",
    "    def create_variable(self):\n",
    "        pass\n",
    "\n",
    "    def add_attributes(self):\n",
    "        pass\n",
    "\n",
    "    def write_netcdf(self):\n",
    "        pass"
   ]
  },
  {
   "cell_type": "code",
   "execution_count": null,
   "metadata": {},
   "outputs": [],
   "source": [
    "import numpy as np\n",
    "\n",
    "# dfile = '../data/ERAInt.surf_geopot.0.75x0.75.nc'\n",
    "dfile = '../data/ERAInt.t2m.ltm.0.75x0.75.nc'"
   ]
  }
 ],
 "metadata": {
  "kernelspec": {
   "display_name": "Python 3",
   "language": "python",
   "name": "python3"
  },
  "language_info": {
   "codemirror_mode": {
    "name": "ipython",
    "version": 3
   },
   "file_extension": ".py",
   "mimetype": "text/x-python",
   "name": "python",
   "nbconvert_exporter": "python",
   "pygments_lexer": "ipython3",
   "version": "3.6.6"
  }
 },
 "nbformat": 4,
 "nbformat_minor": 2
}
