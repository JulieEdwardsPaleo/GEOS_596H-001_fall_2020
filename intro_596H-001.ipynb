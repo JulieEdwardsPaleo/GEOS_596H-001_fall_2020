{
 "cells": [
  {
   "cell_type": "markdown",
   "metadata": {},
   "source": [
    "### What is a Jupyter notebook?\n",
    "\n",
    "In this case, \"notebook\" or \"notebook documents\" denote documents that contain both code and rich text elements, such as figures, links, equations, ... Because of the mix of code and text elements, these documents are the ideal place to bring together an analysis description, and its results, as well as, they can be executed to perform the data analysis in real time.\n",
    "\n",
    "https://jupyter.org/\n",
    "\n",
    "---"
   ]
  },
  {
   "cell_type": "markdown",
   "metadata": {},
   "source": [
    "I strongly recommend students to brush up on their Python skills before next week. Here are a few good resources. \n",
    "\n",
    "https://www.tutorialspoint.com/python/index.htm\n",
    "\n",
    "\n",
    "\n",
    "\n",
    "Open up your terminal and enter the following commands to clone a repositories to your workspace:\n",
    "\n",
    "<code>git clone https://github.com/rabernat/python_teaching</code>\n",
    "\n",
    "<code>git clone https://github.com/koldunovn/python_for_geosciences</code>\n",
    "\n",
    "You can also go to the course material by simply clicking on the links.\n",
    "\n",
    "---"
   ]
  },
  {
   "cell_type": "markdown",
   "metadata": {},
   "source": [
    "Python code always starts with import statements of code libraries. There are a number of different ways to import libraries.\n",
    "You need to put the <b>import</b> keyword along with the name of the module you want to import ([external example](https://www.datacamp.com/community/tutorials/modules-in-python?utm_source=adwords_ppc&utm_campaignid=1565261270&utm_adgroupid=67750485268&utm_device=c&utm_keyword=&utm_matchtype=b&utm_network=g&utm_adpostion=&utm_creative=332661264374&utm_targetid=aud-392016246653:dsa-429603003980&utm_loc_interest_ms=&utm_loc_physical_ms=9030243&gclid=Cj0KCQjwp4j6BRCRARIsAGq4yMHvrDTAgw1X-T3ziM7_zzTrIW9_nYJbDP0E_Ahr3eGweXqCejE42YQaAoFiEALw_wcB)):\n",
    "\n",
    "<b>(1) Import the whole library: </b><br>\n",
    "<code>import numpy</code>\n",
    "\n",
    "Example: To use the <i>meshgrid</i> routine:\n",
    "<code>numpy.meshgrid()</code>\n",
    "\n",
    "\n",
    "<b>(2) Import the whole library under a different (perhaps abbreviated) name:</b> <br>\n",
    "<code>import numpy as np</code>\n",
    "\n",
    "Example: To use the <i>meshgrid</i> routine:\n",
    "<code>np.meshgrid()</code>\n",
    "\n",
    "\n",
    "<b>(3) Import all functions and subroutines from the whole library (memory intensive): </b><br>\n",
    "<code>from numpy import *</code>\n",
    "\n",
    "All functionality from numpy is loaded in memory. To use the <i>meshgrid</i> routine: <code>meshgrid()</code>\n",
    "\n",
    "\n",
    "<b>(4) Import package(s) from library:</b> <br>\n",
    "<code>from numpy import meshgrid</code>\n",
    "\n",
    "Example: To use the <i>meshgrid</i> routine:<code>meshgrid()</code>\n",
    "\n",
    "---"
   ]
  },
  {
   "cell_type": "markdown",
   "metadata": {},
   "source": [
    "Exercise: Import the numpy module below and call it np"
   ]
  },
  {
   "cell_type": "code",
   "execution_count": null,
   "metadata": {},
   "outputs": [],
   "source": []
  },
  {
   "cell_type": "markdown",
   "metadata": {},
   "source": [
    "---\n",
    "\n",
    "### NumPy arrays\n",
    "\n",
    "Official documentation:\n",
    "https://numpy.org/doc/stable/reference/arrays.html\n",
    "\n",
    "\n",
    "There are many ways to skin a cat...\n",
    "\n",
    "<code>x = np.arange(9).reshape((3,3))</code> \n",
    "\n",
    "<code>y = np.zeros((3,4))</code>\n",
    "\n",
    "<code>z = np.ones((2,3)) * 6.</code>\n",
    "\n",
    "\n",
    "Test the syntax below. Don't forget to include a print statement\n",
    "\n",
    "<code>print(x)</code>"
   ]
  },
  {
   "cell_type": "code",
   "execution_count": null,
   "metadata": {},
   "outputs": [],
   "source": []
  },
  {
   "cell_type": "markdown",
   "metadata": {},
   "source": [
    "---\n",
    "\n",
    "### For loops\n",
    "\n",
    "Python starts counting from 0 and ends 1 lower than the \"final\" index\n",
    "\n",
    "There is no end statement as in other programming languages (e.g., Matlab). Instead, the indentation denotes the end of loops\n",
    "\n",
    "Simple \"for\" loops:\n",
    "\n",
    "<code>for i in range(3): \n",
    "    print(i)</code>\n",
    "\n",
    "<code>for i in range(4,8): \n",
    "    print(i)</code>\n",
    "\n",
    "<code>for i in range(0,10,2): \n",
    "    print(i)</code>\n",
    "\n",
    "Exercise: Test the functionality of the loops here:"
   ]
  },
  {
   "cell_type": "code",
   "execution_count": null,
   "metadata": {},
   "outputs": [],
   "source": []
  },
  {
   "cell_type": "markdown",
   "metadata": {},
   "source": [
    "---\n",
    "\n",
    "### Operators and logical statements\n",
    "\n",
    "https://www.programiz.com/python-programming/operators\n",
    "\n",
    "https://www.tutorialspoint.com/python/python_basic_operators.htm\n",
    "\n",
    "Like most other languages, Python supports a number of logical operators. Some of the more common arithmetic operators are:\n",
    "\n",
    "Equal: a == b <br>\n",
    "Not Equal: a != b <br>\n",
    "Less than: a < b <br>\n",
    "Less than or equal to: a <= b <br>\n",
    "Greater than: a > b <br>\n",
    "Greater than or equal to: a >= b <br>\n",
    "\n",
    "\n",
    "These operators are often used in combination with <i>if</i> statements.\n",
    "\n",
    "The basic syntax is:\n",
    "<code>if x operator condition</code>\n",
    "which returns <i>True</i> or <i>False</i>\n",
    "\n",
    "<code>\n",
    "a = 33\n",
    "b = 200\n",
    "if b > a:\n",
    "   print(\"b is greater than a\")</code>\n",
    "  \n",
    "\n",
    "\n",
    "Logical statements are also often combined with loops.\n",
    "\n",
    "Exercise:\n",
    "Write a <i>for</i> loops that counts from 0 to 10 and prints values smaller than 5"
   ]
  },
  {
   "cell_type": "code",
   "execution_count": null,
   "metadata": {},
   "outputs": [],
   "source": []
  },
  {
   "cell_type": "markdown",
   "metadata": {},
   "source": [
    "Exercise:\n",
    "Write a <i>for</i> loop that counts backwards from 10 to 0 and only prints values smaller than 5 but greter than 2"
   ]
  },
  {
   "cell_type": "code",
   "execution_count": null,
   "metadata": {},
   "outputs": [],
   "source": []
  },
  {
   "cell_type": "markdown",
   "metadata": {},
   "source": [
    "---\n",
    "\n",
    "\n",
    "### Nested loops\n",
    "\n",
    "Python programming language allows to use one loop inside another loop. \n",
    "\n",
    "Basic syntax:\n",
    "\n",
    "<code>for i in range(3): \n",
    "    for i in range(3):\n",
    "        print(i,j)</code>\n",
    "\n",
    "Exercise: Test the syntax here:"
   ]
  },
  {
   "cell_type": "code",
   "execution_count": null,
   "metadata": {},
   "outputs": [],
   "source": []
  },
  {
   "cell_type": "markdown",
   "metadata": {},
   "source": [
    "Exercise: <br>\n",
    "(1) Create an empty 4x2 numpy array and call it X<br>\n",
    "(2) Write a nested loop where the outer loop (i-index) counts from 0 to 3 and the inner loop (j-index) that counts from 0 to 2 <br>\n",
    "(3) Define a counter (k) that starts counting at 10 and increments by 2 for each step in the loop <br>\n",
    "(4) Update the positional index in X as k <br>\n",
    "(5) Print the value of k for each step in the nested loop <br>\n",
    "(6) After the loop is done, print X to screen"
   ]
  },
  {
   "cell_type": "code",
   "execution_count": null,
   "metadata": {},
   "outputs": [],
   "source": [
    "        "
   ]
  },
  {
   "cell_type": "markdown",
   "metadata": {},
   "source": [
    "---\n",
    "Excercise: forward derivatives in space (more challenging):\n",
    "\n",
    "(1) Import matplotlib for plotting. Add the following lines to the import statement above (don't forget to run the cell as well):<br>\n",
    "<code>import matplotlib.pylab as plt</code><br>\n",
    "<code>%matplotlib inline</code><br>\n",
    "(2) Define x from 0. to 2$\\cdot$np.pi (np.pi = 3.141592...) in 100 steps <br>\n",
    "(3) Define Y = sin(X) <br>\n",
    "(4) Define dx as the difference in spacing between two elements in x <br>\n",
    "(5) Calculate the derivative (dYdx) of Y as a function of x using forward differences (index i+1 and i) <br>\n",
    "(6) Write a check for right-most end point of loop index and implement a special case that wraps around (cyclic boundary condition) <br>\n",
    "(7) Implement a check that the derivative dYdx is approximately equal to cos(x)<br>\n",
    "(8) Plot Y and dYdx with <br>\n",
    "<code>plt.plot(X,Y,'r')</code><br>\n",
    "<code>plt.plot(X,dYdx,'k')</code> <br>"
   ]
  },
  {
   "cell_type": "code",
   "execution_count": null,
   "metadata": {},
   "outputs": [],
   "source": []
  },
  {
   "cell_type": "markdown",
   "metadata": {},
   "source": [
    "---\n",
    "Excercise: centered derivatives in space (more challenging):\n",
    "\n",
    "Follow the steps above but use centered differences instead (points i+1 and i-1)"
   ]
  },
  {
   "cell_type": "code",
   "execution_count": null,
   "metadata": {},
   "outputs": [],
   "source": []
  },
  {
   "cell_type": "markdown",
   "metadata": {},
   "source": [
    "---\n",
    "Excercise: centered derivatives in space (more challenging):\n",
    "\n",
    "(1) Import matplotlib for plotting. Add the following lines to the import statement above (don't forget to run the cell as well):<br>\n",
    "<code>import matplotlib.pylab as plt</code><br>\n",
    "<code>%matplotlib inline</code><br>\n",
    "(2) Define variable x and y that run from -2$\\cdot$np.pi to 2$\\cdot$np.pi (np.pi = 3.141592...) in 100 steps using the built in function <i>linspace</i> <br>\n",
    "<code>x = np.linspace(start, end, steps)</code> <br>\n",
    "(3) Define variables X and Y from x and y using the built in function meshgrid (https://numpy.org/doc/stable/reference/generated/numpy.meshgrid.html?highlight=meshgrid#numpy.meshgrid) <br>\n",
    "(3) Define <code>Z = np.sin(np.sqrt(X^2 + Y^2)) </code> (note that ^ is written as two asterisks in Python)<br>\n",
    "(4) Define dx and dy as the difference in spacing between two elements in the x and y directions <br>\n",
    "(5) Calculate the derivative (dxZ and dyZ) of Z centered differences (index i+1 and i-1) using cyclic boundary conditions <br>\n",
    "(6) Write special case for all <b>end</b> and <b>corner</b> points <br>\n",
    "(7) Plot the function and its derivative with <br>\n",
    "<code>cf = plt.contourf(X,Y,Z)</code><br>\n",
    "<code>plt.colorbar(cf)</code><br>\n",
    "\n",
    "Create new cells below and plot the derivatives <br>\n",
    "<code>cf_dx = plt.contourf(X,Y,dZdx)</code><br>\n",
    "<code>plt.colorbar(cf_dx)</code><br>\n",
    "and <br>\n",
    "<code>cf_dy = plt.contourf(X,Y,dZdy)</code><br>\n",
    "<code>plt.colorbar(cf_dy)</code><br>\n"
   ]
  },
  {
   "cell_type": "code",
   "execution_count": null,
   "metadata": {},
   "outputs": [],
   "source": [
    "import matplotlib.pylab as plt\n",
    "%matplotlib inline\n",
    "\n",
    "x = np.linspace(-2.*np.pi,2*np.pi,100)\n",
    "y = np.linspace(-2.*np.pi,2*np.pi,100)\n",
    "\n",
    "X,Y = np.meshgrid(x,y)\n",
    "\n",
    "Z = np.sin(np.sqrt(X**2 + Y**2))\n",
    "\n",
    "########################################\n",
    "\n",
    "# Complete the code...\n"
   ]
  },
  {
   "cell_type": "code",
   "execution_count": null,
   "metadata": {},
   "outputs": [],
   "source": []
  }
 ],
 "metadata": {
  "celltoolbar": "Raw Cell Format",
  "kernelspec": {
   "display_name": "Python 3",
   "language": "python",
   "name": "python3"
  },
  "language_info": {
   "codemirror_mode": {
    "name": "ipython",
    "version": 3
   },
   "file_extension": ".py",
   "mimetype": "text/x-python",
   "name": "python",
   "nbconvert_exporter": "python",
   "pygments_lexer": "ipython3",
   "version": "3.6.6"
  }
 },
 "nbformat": 4,
 "nbformat_minor": 2
}
